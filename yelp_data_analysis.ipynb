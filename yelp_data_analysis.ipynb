{
 "cells": [
  {
   "cell_type": "code",
   "execution_count": 1,
   "id": "8a0070d4-caac-4be2-8254-07fc1128447b",
   "metadata": {},
   "outputs": [
    {
     "name": "stdout",
     "output_type": "stream",
     "text": [
      "Hello World\n"
     ]
    }
   ],
   "source": [
    "print('Hello World')"
   ]
  },
  {
   "cell_type": "code",
   "execution_count": 1,
   "id": "8a7d0d09",
   "metadata": {},
   "outputs": [],
   "source": [
    "import os\n",
    "import pandas\n",
    "os.environ['JAVA_HOME'] = 'C:\\java\\jdk'\n",
    "os.environ['SPARK_HOME'] = 'C:\\spark-3.5.1-bin-hadoop3\\spark-3.5.1-bin-hadoop3'\n",
    "import findspark\n",
    "findspark.init()\n",
    "from pyspark import SparkContext\n",
    "\n",
    "sc = SparkContext.getOrCreate()\n",
    "import pyspark\n",
    "from pyspark.sql import SparkSession\n",
    "spark = SparkSession.builder.getOrCreate()"
   ]
  },
  {
   "cell_type": "code",
   "execution_count": 2,
   "id": "68057a90",
   "metadata": {},
   "outputs": [],
   "source": [
    "from pyspark.sql.functions import to_timestamp,col,lit\n",
    "reviews_df = spark.read.json('yelp_dataset\\yelp_academic_dataset_review.json').withColumn('Date',to_timestamp(col('date'),'yyyy-MM-dd HH:mm:ss'))\n",
    "business_df = spark.read.json('yelp_dataset\\yelp_academic_dataset_business.json')\n",
    "checkin_df = spark.read.json('yelp_dataset\\yelp_academic_dataset_checkin.json')\n",
    "tip_df = spark.read.json('yelp_dataset\\yelp_academic_dataset_tip.json')\n",
    "user_df = spark.read.json('yelp_dataset\\yelp_academic_dataset_user.json')\n"
   ]
  },
  {
   "cell_type": "code",
   "execution_count": 3,
   "id": "a1843662",
   "metadata": {},
   "outputs": [],
   "source": [
    "business_df = business_df.drop('attributes','hours')"
   ]
  },
  {
   "cell_type": "code",
   "execution_count": 5,
   "id": "27c315de",
   "metadata": {},
   "outputs": [
    {
     "name": "stdout",
     "output_type": "stream",
     "text": [
      "+--------------------+--------------------+--------------------+-------------+-------+----------+------------+--------------------+-----------+------------+-----+-----+\n",
      "|             address|         business_id|          categories|         city|is_open|  latitude|   longitude|                name|postal_code|review_count|stars|state|\n",
      "+--------------------+--------------------+--------------------+-------------+-------+----------+------------+--------------------+-----------+------------+-----+-----+\n",
      "|1616 Chapala St, ...|Pns2l4eNsfO8kk83d...|Doctors, Traditio...|Santa Barbara|      0|34.4266787|-119.7111968|Abby Rappoport, L...|      93101|           7|  5.0|   CA|\n",
      "|87 Grasso Plaza S...|mpf3x-BjTdTEA3yCZ...|Shipping Centers,...|       Affton|      1| 38.551126|  -90.335695|       The UPS Store|      63123|          15|  3.0|   MO|\n",
      "|5255 E Broadway Blvd|tUFrWirKiKi_TAnsV...|Department Stores...|       Tucson|      0| 32.223236| -110.880452|              Target|      85711|          22|  3.5|   AZ|\n",
      "|         935 Race St|MTSW4McQd7CbVtyjq...|Restaurants, Food...| Philadelphia|      1|39.9555052| -75.1555641|  St Honore Pastries|      19107|          80|  4.0|   PA|\n",
      "|       101 Walnut St|mWMc6_wTdE0EUBKIG...|Brewpubs, Breweri...|   Green Lane|      1|40.3381827| -75.4716585|Perkiomen Valley ...|      18054|          13|  4.5|   PA|\n",
      "+--------------------+--------------------+--------------------+-------------+-------+----------+------------+--------------------+-----------+------------+-----+-----+\n",
      "only showing top 5 rows\n",
      "\n"
     ]
    }
   ],
   "source": [
    "business_df.show(5)"
   ]
  },
  {
   "cell_type": "code",
   "execution_count": 4,
   "id": "387a0db2",
   "metadata": {},
   "outputs": [
    {
     "data": {
      "text/plain": [
       "150346"
      ]
     },
     "execution_count": 4,
     "metadata": {},
     "output_type": "execute_result"
    }
   ],
   "source": [
    "business_df.count()"
   ]
  },
  {
   "cell_type": "code",
   "execution_count": 7,
   "id": "11910bcd",
   "metadata": {},
   "outputs": [
    {
     "name": "stdout",
     "output_type": "stream",
     "text": [
      "root\n",
      " |-- address: string (nullable = true)\n",
      " |-- business_id: string (nullable = true)\n",
      " |-- categories: string (nullable = true)\n",
      " |-- city: string (nullable = true)\n",
      " |-- is_open: long (nullable = true)\n",
      " |-- latitude: double (nullable = true)\n",
      " |-- longitude: double (nullable = true)\n",
      " |-- name: string (nullable = true)\n",
      " |-- postal_code: string (nullable = true)\n",
      " |-- review_count: long (nullable = true)\n",
      " |-- stars: double (nullable = true)\n",
      " |-- state: string (nullable = true)\n",
      "\n"
     ]
    }
   ],
   "source": [
    "business_df.printSchema()"
   ]
  },
  {
   "cell_type": "code",
   "execution_count": 5,
   "id": "9748fc83",
   "metadata": {},
   "outputs": [],
   "source": [
    "from pyspark.sql.functions import lower\n",
    "business_df = business_df.where(lower(col('Categories')).rlike('.*restaurant.*'))\n",
    "business_id_df = business_df.select(col('business_id')).filter(col('is_open') == 1)"
   ]
  },
  {
   "cell_type": "code",
   "execution_count": 6,
   "id": "bb02b71e",
   "metadata": {},
   "outputs": [
    {
     "data": {
      "text/plain": [
       "52286"
      ]
     },
     "execution_count": 6,
     "metadata": {},
     "output_type": "execute_result"
    }
   ],
   "source": [
    "business_df.count()"
   ]
  },
  {
   "cell_type": "code",
   "execution_count": 7,
   "id": "d9f4801a",
   "metadata": {},
   "outputs": [
    {
     "data": {
      "text/plain": [
       "35004"
      ]
     },
     "execution_count": 7,
     "metadata": {},
     "output_type": "execute_result"
    }
   ],
   "source": [
    "business_id_df.count()\n"
   ]
  },
  {
   "cell_type": "code",
   "execution_count": 8,
   "id": "f01109a5",
   "metadata": {},
   "outputs": [],
   "source": [
    "from pyspark.sql.functions import mean,median,min,max\n",
    "# business_df.filter(col('is_open') == 1).agg(mean(col('review_count')).alias('review_count_avg'),\n",
    "#                                             median(col('review_count')).alias('review_count_median'),\n",
    "#                                             min(col('review_count')).alias('review_count_min'),\n",
    "#                                             max(col('review_count')).alias('review_count_max'),\n",
    "#                                             mean(col('stars')).alias('stars_rating_avg'),\n",
    "#                                             median(col('stars')).alias('stars_rating_median'),\n",
    "#                                             min(col('stars')).alias('stars_rating_min'),\n",
    "#                                             max(col('stars')).alias('stars_rating_max')).show()"
   ]
  },
  {
   "cell_type": "code",
   "execution_count": 9,
   "id": "cb9623f0",
   "metadata": {},
   "outputs": [],
   "source": [
    "def iqr_outliers(dataframe,column,factor=1.5):\n",
    "    quartiles = dataframe.approxQuantile(column,[0.25,0.75],0.25)\n",
    "    q1 , q3 = quartiles[0],quartiles[1]\n",
    "    iqr = q3 - q1\n",
    "    lower_bound = q1 - factor * iqr\n",
    "    upper_bound = q3 + factor * iqr\n",
    "    dataframe = dataframe.filter((col(column) >= lower_bound) & (col(column) <= upper_bound))\n",
    "    return dataframe\n",
    "\n",
    "business_df = iqr_outliers(business_df.filter(col('is_open') == 1),'review_count')"
   ]
  },
  {
   "cell_type": "code",
   "execution_count": 13,
   "id": "a0abd6d3",
   "metadata": {},
   "outputs": [],
   "source": [
    "# business_df.agg(mean(col('review_count')).alias('review_count_avg'),\n",
    "#                                             median(col('review_count')).alias('review_count_median'),\n",
    "#                                             min(col('review_count')).alias('review_count_min'),\n",
    "#                                             max(col('review_count')).alias('review_count_max'),\n",
    "#                                             mean(col('stars')).alias('stars_rating_avg'),\n",
    "#                                             median(col('stars')).alias('stars_rating_median'),\n",
    "#                                             min(col('stars')).alias('stars_rating_min'),\n",
    "#                                             max(col('stars')).alias('stars_rating_max')).show()"
   ]
  },
  {
   "cell_type": "code",
   "execution_count": 10,
   "id": "f5a58ae4",
   "metadata": {},
   "outputs": [
    {
     "name": "stdout",
     "output_type": "stream",
     "text": [
      "+-------------------+--------------------+--------------------+------------+-------+-------------+-------------+--------------------+-----------+------------+-----+-----+\n",
      "|            address|         business_id|          categories|        city|is_open|     latitude|    longitude|                name|postal_code|review_count|stars|state|\n",
      "+-------------------+--------------------+--------------------+------------+-------+-------------+-------------+--------------------+-----------+------------+-----+-----+\n",
      "|        935 Race St|MTSW4McQd7CbVtyjq...|Restaurants, Food...|Philadelphia|      1|   39.9555052|  -75.1555641|  St Honore Pastries|      19107|          80|  4.0|   PA|\n",
      "|      615 S Main St|CF33F8-E6oudUQ46H...|Burgers, Fast Foo...|Ashland City|      1|    36.269593|   -87.058943|      Sonic Drive-In|      37015|           6|  2.0|   TN|\n",
      "|2312 Dickerson Pike|bBDDEgkFA1Otx9Lfe...|Ice Cream & Froze...|   Nashville|      1|   36.2081024|  -86.7681696|      Sonic Drive-In|      37207|          10|  1.5|   TN|\n",
      "|                   |eEOYSgkmpB90uNA7l...|Vietnamese, Food,...|   Tampa Bay|      1|   27.9552692|  -82.4563199|Vietnamese Food T...|      33602|          10|  4.0|   FL|\n",
      "|       8901 US 31 S|il_Ro8jwPlHresjw9...|American (Traditi...|Indianapolis|      1|39.6371332838|-86.127217412|             Denny's|      46227|          28|  2.5|   IN|\n",
      "+-------------------+--------------------+--------------------+------------+-------+-------------+-------------+--------------------+-----------+------------+-----+-----+\n",
      "only showing top 5 rows\n",
      "\n"
     ]
    }
   ],
   "source": [
    "business_df.show(5)"
   ]
  },
  {
   "cell_type": "code",
   "execution_count": 11,
   "id": "cd621590",
   "metadata": {},
   "outputs": [],
   "source": [
    "from pyspark.sql.functions import sum\n",
    "# business_df.select(col('name'),col('review_count'),col('stars')).groupby(col('name')).agg(\n",
    "#     sum(col('review_count')).alias('review_count_sum'),\n",
    "#     mean(col('stars')).alias('avg_star_ratings')\n",
    "# ).orderBy(col('review_count_sum'),ascending = [False]).show(10,truncate=False)"
   ]
  },
  {
   "cell_type": "code",
   "execution_count": 16,
   "id": "f80fd88b",
   "metadata": {},
   "outputs": [],
   "source": [
    "# business_df.select(col('name'),col('review_count'),col('stars')).groupby(col('name')).agg(\n",
    "#     sum(col('review_count')).alias('review_count_sum'),\n",
    "#     mean(col('stars')).alias('avg_star_ratings')\n",
    "# ).orderBy(col('avg_star_ratings'),ascending = [False]).show(10,truncate=False)"
   ]
  },
  {
   "cell_type": "code",
   "execution_count": 15,
   "id": "1cdd6afe",
   "metadata": {},
   "outputs": [],
   "source": [
    "from pyspark.sql.functions import *\n",
    "# checkin_count_df = (checkin_df.withColumn('count',length(col('date'))-length(regexp_replace(col('date'), ',', ''))+1)\n",
    "#             .groupby(col('business_id'))\n",
    "#             .agg(sum(col('count')).alias('check_id_count'))\n",
    "#             ).na.drop()\n"
   ]
  },
  {
   "cell_type": "code",
   "execution_count": 18,
   "id": "0c625cff",
   "metadata": {},
   "outputs": [],
   "source": [
    "# checkin_count_df.show(5)"
   ]
  },
  {
   "cell_type": "code",
   "execution_count": 19,
   "id": "74a1b508",
   "metadata": {},
   "outputs": [],
   "source": [
    "# tip_count_df = tip_df.groupBy(col('business_id')).agg(count(col('text')).alias('tip_count')).na.drop()"
   ]
  },
  {
   "cell_type": "code",
   "execution_count": 20,
   "id": "6ec5ad7c",
   "metadata": {},
   "outputs": [],
   "source": [
    "# tip_count_df.show(5)"
   ]
  },
  {
   "cell_type": "code",
   "execution_count": 12,
   "id": "ecb65802",
   "metadata": {},
   "outputs": [],
   "source": [
    "new_business_df = (business_df.join(checkin_df,checkin_df.business_id ==  business_df.business_id,\"left\")\n",
    " .join(tip_df,tip_df.business_id ==  business_df.business_id,\"left\")\n",
    ")"
   ]
  },
  {
   "cell_type": "code",
   "execution_count": 22,
   "id": "aa0d7083",
   "metadata": {},
   "outputs": [
    {
     "name": "stdout",
     "output_type": "stream",
     "text": [
      "+-------------------+--------------------+--------------------+------------+-------+----------+-----------+--------------+-----------+------------+-----+-----+--------------------+--------------------+--------------------+----------------+-------------------+--------------------+--------------------+\n",
      "|            address|         business_id|          categories|        city|is_open|  latitude|  longitude|          name|postal_code|review_count|stars|state|         business_id|                date|         business_id|compliment_count|               date|                text|             user_id|\n",
      "+-------------------+--------------------+--------------------+------------+-------+----------+-----------+--------------+-----------+------------+-----+-----+--------------------+--------------------+--------------------+----------------+-------------------+--------------------+--------------------+\n",
      "|      615 S Main St|CF33F8-E6oudUQ46H...|Burgers, Fast Foo...|Ashland City|      1| 36.269593| -87.058943|Sonic Drive-In|      37015|           6|  2.0|   TN|CF33F8-E6oudUQ46H...|2012-12-16 05:27:...|CF33F8-E6oudUQ46H...|               0|2015-10-20 08:49:57|Love sonic but or...|ZnGIEODjnJ7MlvxCS...|\n",
      "|      615 S Main St|CF33F8-E6oudUQ46H...|Burgers, Fast Foo...|Ashland City|      1| 36.269593| -87.058943|Sonic Drive-In|      37015|           6|  2.0|   TN|CF33F8-E6oudUQ46H...|2012-12-16 05:27:...|CF33F8-E6oudUQ46H...|               0|2012-07-08 13:05:16|Foods always been...|AsBH7jQhHNnrQJ5XJ...|\n",
      "|2245 N. Meridian St|DihJ5NZXiyur5jyim...|Burgers, Restaura...|Indianapolis|      1|39.7987001|-86.1567151|       Wendy's|      46208|          40|  1.5|   IN|DihJ5NZXiyur5jyim...|2010-12-13 20:20:...|DihJ5NZXiyur5jyim...|               0|2014-05-30 16:40:53|Survey get you $2...|Zsdee1KEpMwjg5cqx...|\n",
      "|2245 N. Meridian St|DihJ5NZXiyur5jyim...|Burgers, Restaura...|Indianapolis|      1|39.7987001|-86.1567151|       Wendy's|      46208|          40|  1.5|   IN|DihJ5NZXiyur5jyim...|2010-12-13 20:20:...|DihJ5NZXiyur5jyim...|               0|2015-10-30 18:54:50|Buy the frosty ke...|-FxsSuwDbIII7yo5B...|\n",
      "|2245 N. Meridian St|DihJ5NZXiyur5jyim...|Burgers, Restaura...|Indianapolis|      1|39.7987001|-86.1567151|       Wendy's|      46208|          40|  1.5|   IN|DihJ5NZXiyur5jyim...|2010-12-13 20:20:...|DihJ5NZXiyur5jyim...|               0|2015-11-27 21:47:29|What happened to ...|6wZAJTWpHzzh-I7he...|\n",
      "+-------------------+--------------------+--------------------+------------+-------+----------+-----------+--------------+-----------+------------+-----+-----+--------------------+--------------------+--------------------+----------------+-------------------+--------------------+--------------------+\n",
      "only showing top 5 rows\n",
      "\n"
     ]
    }
   ],
   "source": [
    "new_business_df.show(5)"
   ]
  },
  {
   "cell_type": "code",
   "execution_count": 13,
   "id": "3df2028a",
   "metadata": {},
   "outputs": [
    {
     "data": {
      "text/plain": [
       "492540"
      ]
     },
     "execution_count": 13,
     "metadata": {},
     "output_type": "execute_result"
    }
   ],
   "source": [
    "new_business_df.count()"
   ]
  },
  {
   "cell_type": "code",
   "execution_count": 20,
   "id": "d36565ec",
   "metadata": {},
   "outputs": [],
   "source": [
    "tip_count_df = (new_business_df.select(col('name'),tip_df.user_id)\n",
    "    .groupby(col('name')).agg(\n",
    "    count(tip_df.user_id).alias('tip_count')\n",
    "))"
   ]
  },
  {
   "cell_type": "code",
   "execution_count": null,
   "id": "d9d3fd57",
   "metadata": {},
   "outputs": [],
   "source": [
    "star_ratings_df = (new_business_df.select(col('name'),col('review_count'),col('stars'),checkin_df.date,tip_df.user_id)\n",
    "    .groupby(col('name')).agg(\n",
    "    sum(col('review_count')).alias('review_count_sum'),\n",
    "    (round(mean(col('stars'))*2)/2).alias('avg_star_ratings'),\n",
    "    sum(length(checkin_df.date)-length(regexp_replace(checkin_df.date, ',', ''))+1).alias('check_id_count'),\n",
    "    count(tip_df.user_id).alias('tip_count')\n",
    "    )\n",
    ").groupby(col('avg_star_ratings')).agg(\n",
    "    round(avg(col('review_count_sum')),4).alias('avg_review_count'),\n",
    "    round(avg(col('check_id_count')),4).alias('avg_checkin_count'),\n",
    "    round(avg(col('tip_count')),4).alias('avg_tip_count')\n",
    ").sort(col('avg_star_ratings'),ascending = [True])"
   ]
  },
  {
   "cell_type": "code",
   "execution_count": null,
   "id": "ef7b4a2f",
   "metadata": {},
   "outputs": [],
   "source": [
    "import matplotlib.pyplot as plt\n",
    "\n",
    "ratings_review_df = star_ratings_df.toPandas()\n",
    "# ratings_review_df.head(5)\n",
    "# plt.barh(display_avg_review['avg_star_ratings'],display_avg_review['avg_review_count'])"
   ]
  },
  {
   "cell_type": "code",
   "execution_count": 25,
   "id": "e6e85a61",
   "metadata": {},
   "outputs": [
    {
     "data": {
      "image/png": "[encoded data removed]",
      "text/plain": [
       "<Figure size 2500x1000 with 4 Axes>"
      ]
     },
     "metadata": {},
     "output_type": "display_data"
    }
   ],
   "source": [
    "plt.figure(figsize=(25,10))\n",
    "plt.style.use('seaborn-v0_8-pastel')\n",
    "plt.title('Avg Engagement based on Rating \\n\\n')\n",
    "plt.yticks([])\n",
    "plt.xticks([])\n",
    "plt.subplot(1,3,1)\n",
    "plt.title('Review Count')\n",
    "plt.barh(ratings_review_df['avg_star_ratings'].astype('str'),ratings_review_df['avg_review_count'])\n",
    "plt.gca().spines['right'].set_visible(False)\n",
    "for i,value in enumerate(ratings_review_df['avg_review_count']):\n",
    "    plt.text(value+3,i,str(value),color = 'black', va = 'center')\n",
    "\n",
    "plt.xticks([])\n",
    "plt.subplot(1,3,2)\n",
    "plt.title('Checkin Count')\n",
    "plt.barh(ratings_review_df['avg_star_ratings'].astype('str'),ratings_review_df['avg_checkin_count'])\n",
    "plt.gca().spines['right'].set_visible(False)\n",
    "for i,value in enumerate(ratings_review_df['avg_checkin_count']):\n",
    "    plt.text(value+3,i,str(value),color = 'black', va = 'center')\n",
    "\n",
    "plt.xticks([])\n",
    "plt.subplot(1,3,3)\n",
    "plt.title('Tip Count')\n",
    "plt.barh(ratings_review_df['avg_star_ratings'].astype('str'),ratings_review_df['avg_tip_count'])\n",
    "for i,value in enumerate(ratings_review_df['avg_tip_count']):\n",
    "    plt.text(value+0.5,i,str(value),color = 'black', va = 'center')\n"
   ]
  },
  {
   "cell_type": "code",
   "execution_count": 26,
   "id": "455853a7",
   "metadata": {},
   "outputs": [
    {
     "name": "stdout",
     "output_type": "stream",
     "text": [
      "['Solarize_Light2', '_classic_test_patch', '_mpl-gallery', '_mpl-gallery-nogrid', 'bmh', 'classic', 'dark_background', 'fast', 'fivethirtyeight', 'ggplot', 'grayscale', 'seaborn-v0_8', 'seaborn-v0_8-bright', 'seaborn-v0_8-colorblind', 'seaborn-v0_8-dark', 'seaborn-v0_8-dark-palette', 'seaborn-v0_8-darkgrid', 'seaborn-v0_8-deep', 'seaborn-v0_8-muted', 'seaborn-v0_8-notebook', 'seaborn-v0_8-paper', 'seaborn-v0_8-pastel', 'seaborn-v0_8-poster', 'seaborn-v0_8-talk', 'seaborn-v0_8-ticks', 'seaborn-v0_8-white', 'seaborn-v0_8-whitegrid', 'tableau-colorblind10']\n"
     ]
    }
   ],
   "source": [
    "print(plt.style.available)"
   ]
  },
  {
   "cell_type": "code",
   "execution_count": 27,
   "id": "9477adfb",
   "metadata": {},
   "outputs": [],
   "source": [
    "engagement_df = (new_business_df.select(col('name'),col('review_count'),col('stars'),checkin_df.date,tip_df.user_id)\n",
    "    .groupby(col('name')).agg(\n",
    "    sum(col('review_count')).alias('review_count_sum'),\n",
    "    (round(mean(col('stars'))*2)/2).alias('avg_star_ratings'),\n",
    "    sum(length(checkin_df.date)-length(regexp_replace(checkin_df.date, ',', ''))+1).alias('check_id_count'),\n",
    "    count(tip_df.user_id).alias('tip_count')\n",
    ")).na.drop().toPandas()"
   ]
  },
  {
   "cell_type": "code",
   "execution_count": 28,
   "id": "96d9ab9d",
   "metadata": {},
   "outputs": [
    {
     "data": {
      "text/html": [
       "<div>\n",
       "<style scoped>\n",
       "    .dataframe tbody tr th:only-of-type {\n",
       "        vertical-align: middle;\n",
       "    }\n",
       "\n",
       "    .dataframe tbody tr th {\n",
       "        vertical-align: top;\n",
       "    }\n",
       "\n",
       "    .dataframe thead th {\n",
       "        text-align: right;\n",
       "    }\n",
       "</style>\n",
       "<table border=\"1\" class=\"dataframe\">\n",
       "  <thead>\n",
       "    <tr style=\"text-align: right;\">\n",
       "      <th></th>\n",
       "      <th>review_count_sum</th>\n",
       "      <th>check_id_count</th>\n",
       "      <th>tip_count</th>\n",
       "    </tr>\n",
       "  </thead>\n",
       "  <tbody>\n",
       "    <tr>\n",
       "      <th>review_count_sum</th>\n",
       "      <td>1.000000</td>\n",
       "      <td>0.580413</td>\n",
       "      <td>0.533938</td>\n",
       "    </tr>\n",
       "    <tr>\n",
       "      <th>check_id_count</th>\n",
       "      <td>0.580413</td>\n",
       "      <td>1.000000</td>\n",
       "      <td>0.418028</td>\n",
       "    </tr>\n",
       "    <tr>\n",
       "      <th>tip_count</th>\n",
       "      <td>0.533938</td>\n",
       "      <td>0.418028</td>\n",
       "      <td>1.000000</td>\n",
       "    </tr>\n",
       "  </tbody>\n",
       "</table>\n",
       "</div>"
      ],
      "text/plain": [
       "                  review_count_sum  check_id_count  tip_count\n",
       "review_count_sum          1.000000        0.580413   0.533938\n",
       "check_id_count            0.580413        1.000000   0.418028\n",
       "tip_count                 0.533938        0.418028   1.000000"
      ]
     },
     "execution_count": 28,
     "metadata": {},
     "output_type": "execute_result"
    }
   ],
   "source": [
    "engagement_df[['review_count_sum','check_id_count','tip_count']].corr()"
   ]
  },
  {
   "cell_type": "code",
   "execution_count": 29,
   "id": "222f66fd",
   "metadata": {},
   "outputs": [
    {
     "data": {
      "text/plain": [
       "<Axes: >"
      ]
     },
     "execution_count": 29,
     "metadata": {},
     "output_type": "execute_result"
    },
    {
     "data": {
      "image/png": "[encoded data removed]",
      "text/plain": [
       "<Figure size 640x480 with 2 Axes>"
      ]
     },
     "metadata": {},
     "output_type": "display_data"
    }
   ],
   "source": [
    "from matplotlib.colors import LinearSegmentedColormap\n",
    "import seaborn as sns\n",
    "\n",
    "colors = ['#BEF9F9','#73F1C1','#1C9BA8']\n",
    "custom_cmap = LinearSegmentedColormap.from_list('mycmap',colors)\n",
    "sns.heatmap(engagement_df[['review_count_sum','check_id_count','tip_count']].corr(), cmap = custom_cmap, annot=True,linewidths=0.5,linecolor='k')"
   ]
  },
  {
   "cell_type": "code",
   "execution_count": 30,
   "id": "e67ce5ab",
   "metadata": {},
   "outputs": [],
   "source": [
    "engg_df = (new_business_df.select(col('name'),col('review_count'),col('stars'),checkin_df.date,tip_df.user_id)\n",
    "    .groupby(col('name')).agg(\n",
    "    sum(col('review_count')).alias('review_count_sum'),\n",
    "    (round(mean(col('stars'))*2)/2).alias('avg_star_ratings'),\n",
    "    sum(length(checkin_df.date)-length(regexp_replace(checkin_df.date, ',', ''))+1).alias('check_id_count'),\n",
    "    count(tip_df.user_id).alias('tip_count'))   \n",
    ").na.drop()\n",
    "\n"
   ]
  },
  {
   "cell_type": "code",
   "execution_count": 31,
   "id": "5ab7c8e5",
   "metadata": {},
   "outputs": [],
   "source": [
    "engg_df = engg_df.withColumn('category',when(col('avg_star_ratings')>= 3.0,'high_rated').otherwise('low_rated')).toPandas()"
   ]
  },
  {
   "cell_type": "code",
   "execution_count": 32,
   "id": "2a0cf991",
   "metadata": {},
   "outputs": [
    {
     "data": {
      "text/html": [
       "<div>\n",
       "<style scoped>\n",
       "    .dataframe tbody tr th:only-of-type {\n",
       "        vertical-align: middle;\n",
       "    }\n",
       "\n",
       "    .dataframe tbody tr th {\n",
       "        vertical-align: top;\n",
       "    }\n",
       "\n",
       "    .dataframe thead th {\n",
       "        text-align: right;\n",
       "    }\n",
       "</style>\n",
       "<table border=\"1\" class=\"dataframe\">\n",
       "  <thead>\n",
       "    <tr style=\"text-align: right;\">\n",
       "      <th></th>\n",
       "      <th>review_count_sum</th>\n",
       "      <th>check_id_count</th>\n",
       "      <th>tip_count</th>\n",
       "    </tr>\n",
       "    <tr>\n",
       "      <th>category</th>\n",
       "      <th></th>\n",
       "      <th></th>\n",
       "      <th></th>\n",
       "    </tr>\n",
       "  </thead>\n",
       "  <tbody>\n",
       "    <tr>\n",
       "      <th>high_rated</th>\n",
       "      <td>11551.063865</td>\n",
       "      <td>28867.509953</td>\n",
       "      <td>21.045802</td>\n",
       "    </tr>\n",
       "    <tr>\n",
       "      <th>low_rated</th>\n",
       "      <td>3033.443972</td>\n",
       "      <td>7324.254610</td>\n",
       "      <td>22.636879</td>\n",
       "    </tr>\n",
       "  </tbody>\n",
       "</table>\n",
       "</div>"
      ],
      "text/plain": [
       "            review_count_sum  check_id_count  tip_count\n",
       "category                                               \n",
       "high_rated      11551.063865    28867.509953  21.045802\n",
       "low_rated        3033.443972     7324.254610  22.636879"
      ]
     },
     "execution_count": 32,
     "metadata": {},
     "output_type": "execute_result"
    }
   ],
   "source": [
    "engg_df.groupby('category')[['review_count_sum','check_id_count','tip_count']].mean()"
   ]
  },
  {
   "cell_type": "code",
   "execution_count": 33,
   "id": "d35dd154",
   "metadata": {},
   "outputs": [],
   "source": [
    "import numpy as np\n",
    "def calculate_success_score(df):\n",
    "    success_score = []\n",
    "    for index,row in df.iterrows():\n",
    "        score = row['avg_star_ratings']*np.log(row['review_count_sum']+1)\n",
    "        success_score.append(score)\n",
    "    return success_score\n",
    "\n"
   ]
  },
  {
   "cell_type": "code",
   "execution_count": 34,
   "id": "f7556005",
   "metadata": {},
   "outputs": [],
   "source": [
    "city_df = (business_df.select(col('state'),col('city'),col('review_count'),col('stars'),col('business_id'))\n",
    "    .groupby(col('state'),col('city')).agg(\n",
    "    sum(col('review_count')).alias('review_count_sum'),\n",
    "    (round(mean(col('stars'))*2)/2).alias('avg_star_ratings'),\n",
    "    count(col('business_id')).alias('busines_count')    \n",
    "    ).sort(col('review_count_sum'),ascending = [False])\n",
    ").toPandas().head(10)\n",
    "\n"
   ]
  },
  {
   "cell_type": "code",
   "execution_count": 35,
   "id": "c784d492",
   "metadata": {},
   "outputs": [],
   "source": [
    "city_df['success_score'] = calculate_success_score(city_df)\n"
   ]
  },
  {
   "cell_type": "code",
   "execution_count": 36,
   "id": "f9489a40",
   "metadata": {},
   "outputs": [
    {
     "data": {
      "text/html": [
       "<div>\n",
       "<style scoped>\n",
       "    .dataframe tbody tr th:only-of-type {\n",
       "        vertical-align: middle;\n",
       "    }\n",
       "\n",
       "    .dataframe tbody tr th {\n",
       "        vertical-align: top;\n",
       "    }\n",
       "\n",
       "    .dataframe thead th {\n",
       "        text-align: right;\n",
       "    }\n",
       "</style>\n",
       "<table border=\"1\" class=\"dataframe\">\n",
       "  <thead>\n",
       "    <tr style=\"text-align: right;\">\n",
       "      <th></th>\n",
       "      <th>state</th>\n",
       "      <th>city</th>\n",
       "      <th>review_count_sum</th>\n",
       "      <th>avg_star_ratings</th>\n",
       "      <th>busines_count</th>\n",
       "      <th>success_score</th>\n",
       "    </tr>\n",
       "  </thead>\n",
       "  <tbody>\n",
       "    <tr>\n",
       "      <th>0</th>\n",
       "      <td>PA</td>\n",
       "      <td>Philadelphia</td>\n",
       "      <td>495404</td>\n",
       "      <td>3.5</td>\n",
       "      <td>3527</td>\n",
       "      <td>45.895958</td>\n",
       "    </tr>\n",
       "    <tr>\n",
       "      <th>1</th>\n",
       "      <td>LA</td>\n",
       "      <td>New Orleans</td>\n",
       "      <td>386992</td>\n",
       "      <td>4.0</td>\n",
       "      <td>1392</td>\n",
       "      <td>51.464648</td>\n",
       "    </tr>\n",
       "    <tr>\n",
       "      <th>2</th>\n",
       "      <td>TN</td>\n",
       "      <td>Nashville</td>\n",
       "      <td>260980</td>\n",
       "      <td>3.5</td>\n",
       "      <td>1681</td>\n",
       "      <td>43.652710</td>\n",
       "    </tr>\n",
       "    <tr>\n",
       "      <th>3</th>\n",
       "      <td>FL</td>\n",
       "      <td>Tampa</td>\n",
       "      <td>236140</td>\n",
       "      <td>3.5</td>\n",
       "      <td>1965</td>\n",
       "      <td>43.302645</td>\n",
       "    </tr>\n",
       "    <tr>\n",
       "      <th>4</th>\n",
       "      <td>AZ</td>\n",
       "      <td>Tucson</td>\n",
       "      <td>192649</td>\n",
       "      <td>3.5</td>\n",
       "      <td>1643</td>\n",
       "      <td>42.590206</td>\n",
       "    </tr>\n",
       "    <tr>\n",
       "      <th>5</th>\n",
       "      <td>IN</td>\n",
       "      <td>Indianapolis</td>\n",
       "      <td>186614</td>\n",
       "      <td>3.5</td>\n",
       "      <td>1904</td>\n",
       "      <td>42.478810</td>\n",
       "    </tr>\n",
       "    <tr>\n",
       "      <th>6</th>\n",
       "      <td>NV</td>\n",
       "      <td>Reno</td>\n",
       "      <td>151460</td>\n",
       "      <td>3.5</td>\n",
       "      <td>798</td>\n",
       "      <td>41.748292</td>\n",
       "    </tr>\n",
       "    <tr>\n",
       "      <th>7</th>\n",
       "      <td>CA</td>\n",
       "      <td>Santa Barbara</td>\n",
       "      <td>127068</td>\n",
       "      <td>4.0</td>\n",
       "      <td>446</td>\n",
       "      <td>47.009942</td>\n",
       "    </tr>\n",
       "    <tr>\n",
       "      <th>8</th>\n",
       "      <td>MO</td>\n",
       "      <td>Saint Louis</td>\n",
       "      <td>125866</td>\n",
       "      <td>3.5</td>\n",
       "      <td>958</td>\n",
       "      <td>41.100434</td>\n",
       "    </tr>\n",
       "    <tr>\n",
       "      <th>9</th>\n",
       "      <td>ID</td>\n",
       "      <td>Boise</td>\n",
       "      <td>55551</td>\n",
       "      <td>3.5</td>\n",
       "      <td>603</td>\n",
       "      <td>38.237762</td>\n",
       "    </tr>\n",
       "  </tbody>\n",
       "</table>\n",
       "</div>"
      ],
      "text/plain": [
       "  state           city  review_count_sum  avg_star_ratings  busines_count  \\\n",
       "0    PA   Philadelphia            495404               3.5           3527   \n",
       "1    LA    New Orleans            386992               4.0           1392   \n",
       "2    TN      Nashville            260980               3.5           1681   \n",
       "3    FL          Tampa            236140               3.5           1965   \n",
       "4    AZ         Tucson            192649               3.5           1643   \n",
       "5    IN   Indianapolis            186614               3.5           1904   \n",
       "6    NV           Reno            151460               3.5            798   \n",
       "7    CA  Santa Barbara            127068               4.0            446   \n",
       "8    MO    Saint Louis            125866               3.5            958   \n",
       "9    ID          Boise             55551               3.5            603   \n",
       "\n",
       "   success_score  \n",
       "0      45.895958  \n",
       "1      51.464648  \n",
       "2      43.652710  \n",
       "3      43.302645  \n",
       "4      42.590206  \n",
       "5      42.478810  \n",
       "6      41.748292  \n",
       "7      47.009942  \n",
       "8      41.100434  \n",
       "9      38.237762  "
      ]
     },
     "execution_count": 36,
     "metadata": {},
     "output_type": "execute_result"
    }
   ],
   "source": [
    "city_df"
   ]
  },
  {
   "cell_type": "markdown",
   "id": "ef237dd0",
   "metadata": {},
   "source": [
    "Importing pandas and other plotting libraries"
   ]
  },
  {
   "cell_type": "code",
   "execution_count": 37,
   "id": "447f6e35",
   "metadata": {},
   "outputs": [],
   "source": [
    "# import pandas as pd\n",
    "# import matplotlib.pyplot as plt\n",
    "# import seaborn as sns\n",
    "# from datetime import datetime\n",
    "# import numpy as np\n",
    "# import sqlite3\n",
    "import folium\n",
    "from geopy.geocoders import Nominatim\n",
    "# from matplotlib.colors import LinearSegmentedColormap\n",
    "#from Ipython.display import display\n",
    "import warnings\n",
    "warnings.filterwarnings('ignore')"
   ]
  },
  {
   "cell_type": "markdown",
   "id": "d2df558f",
   "metadata": {},
   "source": [
    "Making SQL Views from pyspark"
   ]
  },
  {
   "cell_type": "code",
   "execution_count": 38,
   "id": "9d92cf25",
   "metadata": {},
   "outputs": [],
   "source": [
    "# business_df.createOrReplaceTempView('Business')\n",
    "# checkin_df.createOrReplaceTempView('Checkin')\n",
    "# reviews_df.createOrReplaceTempView('Reviews')\n",
    "# tip_df.createOrReplaceTempView('Tip')\n",
    "# user_df.createOrReplaceTempView('Users')"
   ]
  },
  {
   "cell_type": "code",
   "execution_count": 39,
   "id": "48653599",
   "metadata": {},
   "outputs": [],
   "source": [
    "# spark.sql('''select business_id from Business where lower(categories) like '%restaurent%' ''').show(5)"
   ]
  },
  {
   "cell_type": "code",
   "execution_count": 40,
   "id": "40cdc2eb",
   "metadata": {},
   "outputs": [],
   "source": [
    "# spark.sql('''select * from Reviews where Date >= '2020-01-01' ''').show(5)"
   ]
  },
  {
   "cell_type": "code",
   "execution_count": 41,
   "id": "c9fe81b0",
   "metadata": {},
   "outputs": [],
   "source": [
    "# spark.sql('''select * from Business ''').show(5)"
   ]
  },
  {
   "cell_type": "code",
   "execution_count": 42,
   "id": "dc34244f",
   "metadata": {},
   "outputs": [],
   "source": [
    "# spark.sql('''select * from Tip ''').show(5)"
   ]
  },
  {
   "cell_type": "code",
   "execution_count": 43,
   "id": "d622ff42",
   "metadata": {},
   "outputs": [],
   "source": [
    "# spark.sql('''select * from Checkin ''').show(5)"
   ]
  },
  {
   "cell_type": "code",
   "execution_count": 44,
   "id": "73c1efad",
   "metadata": {},
   "outputs": [],
   "source": [
    "# spark.sql('''select * from User ''').show(5)"
   ]
  },
  {
   "cell_type": "code",
   "execution_count": 45,
   "id": "1e03c06d",
   "metadata": {},
   "outputs": [],
   "source": [
    "# spark.sql('''select * \n",
    "#           from Business \n",
    "#           join Checkin \n",
    "#           on Checkin.business_id = business.business_id''').show(5)"
   ]
  },
  {
   "cell_type": "markdown",
   "id": "7aa4253d",
   "metadata": {},
   "source": [
    "next steps -\n",
    "take data from any one state. CA / TX\n",
    "based on latitude / longitude, run a kmeans ml model, to cluster restaurent \n",
    "    a) based on stars\n",
    "    b) based on review counts\n"
   ]
  }
 ],
 "metadata": {
  "kernelspec": {
   "display_name": "my_venv",
   "language": "python",
   "name": "python3"
  },
  "language_info": {
   "codemirror_mode": {
    "name": "ipython",
    "version": 3
   },
   "file_extension": ".py",
   "mimetype": "text/x-python",
   "name": "python",
   "nbconvert_exporter": "python",
   "pygments_lexer": "ipython3",
   "version": "3.10.5"
  }
 },
 "nbformat": 4,
 "nbformat_minor": 5
}
